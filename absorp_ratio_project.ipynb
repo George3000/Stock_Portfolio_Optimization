{
 "cells": [
  {
   "cell_type": "markdown",
   "metadata": {},
   "source": [
    "# Machine Learning Engineer Nanodegree\n",
    "\n",
    "## Capstone Project: Trading Strategy based on PCA ##\n",
    "\n",
    "George\n",
    "\n",
    "September 10th, 2018\n"
   ]
  },
  {
   "cell_type": "markdown",
   "metadata": {},
   "source": [
    "# I. Definition"
   ]
  },
  {
   "cell_type": "markdown",
   "metadata": {},
   "source": [
    "Welcome to your capstone project. \n",
    "\n",
    "I'm interested in machine learning and finance. The project is based on the mean-variance theory promoted by Harry Markowitz. \n",
    "Harry Markowitz, in 1952, published a paper on “Modern Portfolio Theory” for which he also received the Nobel Price in Economics. The main concepts are:\n",
    "1. The investor's goal is to maximize return for any level of risk\n",
    "2. Risk can be reduced by creating a diversified portfolio of unrelated assets\n",
    "\n",
    "The project creates a stock portfolio based on ideas seen in the research paper from MIT “Principal Components as a Measure of Systemic Risk” by Mark Kritzman and coauthors published in 2010 (http://web.mit.edu/finlunch/Fall10/PCASystemicRisk.pdf).\n",
    "\n",
    "I will be using historical stock prices as inputs. The same approach would also work with price forecast data instead of historical data.\n",
    "This project if driven by my desire to build a trading system that is modular and can be scaled; combination of machine learning models, reporting, and analysis to simplify the complexity of the financial markets.\n"
   ]
  },
  {
   "cell_type": "markdown",
   "metadata": {},
   "source": [
    "### Problem Statement\n",
    "\n",
    "My problem statement is simple and direct. To build a stock portfolio script as a simple trading strategy. An abundance of information is available in the form of historical stock prices and company performance data, suitable for machine learning algorithms to process. By building a mathematical model for portfolio construction based on principal component analysis (PCA), I will expect the results to be quantifiable, measurable and replicable. \n",
    "\n",
    "\n",
    "From the execution standpoint, these are the project main objectives:\n",
    "\n",
    "- construct eigen-portfolios\n",
    "- implement a measure of market systemic risk\n",
    "- develop simple trading strategy\n",
    "\n"
   ]
  },
  {
   "cell_type": "markdown",
   "metadata": {},
   "source": [
    "### Metrics\n",
    "\n",
    "I propose the metrics absorption ratio delta, sharpe ratio, annualized return, and annualized volatility.\n",
    "Absorption ratio predicts the systemic risk in the markets or particular investment portfolios by measuring the concentration of risk. It shows when markets are “fragile” and vulnerable to loss and when markets are resilient.\n",
    "\n",
    "Using the absortion ratio, we can anticipate shifts in the portfolio volatility and exposure to loss or opportunity for gain.\n",
    "\n",
    "Absorption ration equals the fraction of the total variance of a set of asset returns explained or “absorbed” by a fixed number of eigenvectors.\n",
    "\n",
    "\n",
    "Metrics breakdown by creation point in the project:\n",
    "\n",
    "Input: \n",
    "* Daily stock closing prices\n",
    "\n",
    "Calculated: \n",
    "* Log daily returns (percentage)\n",
    "* Absorption ratio and absorption ratio delta\n",
    "* Annualized returns (average returns over 1 yr)\n",
    "* Annualized volatility (volatility -standard deviation- over 1 yr)\n",
    "* Sharpe ratio (annualized returns/ annualized volatility)\n",
    "\n",
    "I will use absorption ratio delta to create the portfolio and sharpe ratio, annualized returns, and annualized volatility to measure the performance of the portfolio.\n",
    "\n"
   ]
  },
  {
   "cell_type": "markdown",
   "metadata": {},
   "source": [
    "# II. Analysis"
   ]
  },
  {
   "cell_type": "markdown",
   "metadata": {},
   "source": [
    "### Data Exploration\n",
    "\n",
    "This project will use historical daily stocks prices from S&P 500 Index stock data. It contains 3493 rows of daily closing price of 419 US stocks including the S&P 500 Index spanning 13 years from 2000 to 2013. \n",
    "In addition, I will use one additional dataset for benchmarking. It is composed of stock closing prices of two indices VTI (Vanguard Total Stock Market ETF) and AGG(iShares Core U.S. Aggregate Bond ETF) spanning 13 years from 2003 to 2017.\n",
    "\n",
    "Please note, initially I used 10 years of data, however I wanted to capture the 2000 dot-com market crash. Furthermore, the moving window for computing principal components is minimum 2 years.\n",
    "\n",
    "As stated the only feature in the dataset is made of daily stock prices, a numerical (float) data type. The price feature will undergo a few transformations to produce logarithmic daily returns (%) that I will use for modeling.\n"
   ]
  },
  {
   "cell_type": "markdown",
   "metadata": {},
   "source": [
    "### Exploratory Visualization\n",
    "\n",
    "In this section, you will need to provide some form of visualization that summarizes or extracts a relevant characteristic or feature about the data. \n",
    "\n",
    "\n",
    "\n",
    "In the first dataset, we have the stocks prices of S&P 500 companies and the S&P 500 Index (SPX).  \n",
    "\n",
    "In the second dataset, we have two indices, VTI representing equity market and AGG index representing fixed income market.\n",
    "\n",
    "\n",
    "In the first chart, we see SPX index evolution over time. It's interesting to notice the big drop during the 2008 financial crisis\n",
    "![SPX index](SPX.png)\n",
    "\n",
    "In the second chart, I plot VTI index over time \n",
    "![VTI index](VTI.png)\n",
    "\n",
    "In the third chart, we have AGG index over time \n",
    "![AGG index](AGG.png)\n",
    "\n",
    "The second and third charts are a clear indication how both indices are a great measure of the market as a whole. The data is center around 0 with a strong deviation during the 2008 financial crisis.\n"
   ]
  },
  {
   "cell_type": "markdown",
   "metadata": {},
   "source": [
    "### Algorithms and Techniques\n",
    "\n",
    "This project revolves around PCA as a dimensionality reduction technique to simplify the complexity of holding a portfolio of 420 stocks to holding just two index stocks and optimizing it as seldom as possible.\n",
    "\n",
    "In a nutshell, the stock daily returns, the input feature, is calculated from daily closing prices and further log transformed to satisfy the Gaussian feature distribution required by the mean-variance portfolio theory. Following this transformation, I proceed to normalize the returns.\n",
    "\n",
    "Now the data is ready to compute Absorption Ratio (AR). I do so by defining a moving look back window over which I get returns for computing PCA. \n",
    "\n",
    "In order to calculate the absorption ratio, I use a window of 504 days (moving_window = 252 * 2 ) to estimate the covariance matrix and eigenvectors, and I fix the number of eigenvectors at approximately 1/5th the number of assets in the data sample.\n",
    "\n",
    "The variances in the AR formula (numerator and denominator) are calculated with exponential weighting. This approach assumes that the market’s memory of prior events fades away gradually as these events regress further into the past. The half time of the exponential weight decay is set to be half of the window; that is, 252 days (half_life = 252).\n",
    "\n",
    "Next I compute AR Delta measure, generate the strategy weights and use them to build the portfolio trading strategy.\n",
    "\n",
    "\n",
    "**Formulas used in the project**: \n",
    "\n",
    "*Formula for Absorption ratio*: \n",
    "\n",
    "$$ AR = \\frac{\\sum\\limits_{i=1}^n\\sigma_{Ei}^2}{\\sum\\limits_{j=1}^N\\sigma_{Aj}^2}$$\n",
    "\n",
    "where,\n",
    "* __$ AR: $__ Absorption ratio \n",
    "* __$ N:  $__ number of assets\n",
    "* __$ n: $__ number of eigenvectors used to calculate absorption ratio \n",
    "* __$ {\\sigma_{Ei}^2}  $__ variance of the i-th eigenvector, sometimes called eigenportfolio\n",
    "* __$ {\\sigma_{Aj}^2}  $__ variance of the j-th asset\n",
    "\n",
    "*Formula for AR Delta*:\n",
    "$$ AR\\delta = \\frac{AR_{15d} - AR_{1y}}{ AR\\sigma_{1y}}$$\n",
    "\n",
    "where,\n",
    "* __$ AR_{15d}: $__ moving average of the absorption ratio over 15 days\n",
    "* __$ AR_{1y}: $__ moving average of the absorption ratio over 1 year\n",
    "* __$ AR\\sigma_{1y}: $__ standard deviation of the one-year absorption ratio\n",
    "* __$ AR\\delta: $__ AR Delta, also called `standardized shift in absorption ratio` in the research paper (Kritzman)\n",
    "\n",
    "*Formula for exponentially smoothed weights*: $$ w_j = \\frac{X_j}{ \\sum\\limits_{j=0}^N X_j } $$\n",
    "where,\n",
    "* __$ X_j: $__ a sequence where $j \\subset [N, 0]$, an integer taking all values in the interval from 0 to N $$ X_j =  e^{-\\frac{log(2)}{H} \\times  \\space j}$$\n",
    "* __$ w_j:  $__ a sequence of exponentially decaying weights\n",
    "* __$ H: $__ is half-life which determines the speed of decay\n",
    "\n"
   ]
  },
  {
   "cell_type": "markdown",
   "metadata": {},
   "source": [
    "### Benchmark\n",
    "\n",
    "The AR Delta trading strategy forms a portfolio of EQ and FI, following these simple rules:\n",
    "\n",
    "* __$ -1\\sigma < AR < +1\\sigma $__\t 50 / 50 weights for EQ / FI\n",
    "* __$ AR > +1\\sigma $__\t             0 / 100 weights for EQ / FI\n",
    "* __$ AR < -1\\sigma $__\t             100 / 0 weights for EQ / FI\n",
    "\n",
    "\n",
    "The strategy in words: if AR Delta is above 1 then invest in fixed income index, if AR Delta is below -1 invest in equity index only, otherwise invest 50/50.\n",
    "\n",
    "\n",
    "I compute AR Delta strategy weights from the same data, apply it to the benchmark indices (VTI, AGG) compare it with the equal weights portfolio using the sharpe ratio, annualized return, annualized volatility measures. Based on the comparison I decide if I have to adjust the portfolio or use 50/50 or leave it as is.  \n",
    "\n",
    "I also compute the average yearly trades needed to optimize the portflio. As expected, the average number of trades per year is very low.\n",
    "\n",
    "\n",
    "Definitions:\n",
    "*\tSharpe ratio is defined as annualized return divided by annualized volatility. \n",
    "*\tAnnualized return is the average amount of money earned by an investment each year over a given time period. It is calculated as an average to show what an investor would earn over a period of time if the annual return was compounded.\n",
    "*\tAnnualizing volatility is volatility (standard deviation) in annualized terms. We need to multiply our daily standard deviation by the square root of 252. This assumes there are 252 trading days in a given year because the markets are closed on weekends.\n",
    "\n"
   ]
  },
  {
   "cell_type": "markdown",
   "metadata": {},
   "source": [
    "# III. Methodology"
   ]
  },
  {
   "cell_type": "markdown",
   "metadata": {},
   "source": [
    "### Data Preprocessing\n",
    "\n",
    "The data is stored in a csv file and contains daily stock closing prices for 419 stocks.  It is simple and straight forward data, character for date and numeric for stock prices, however in order to properly use the price feature a number of transformations are needed.\n",
    "\n",
    "1.\tImport data into pandas dataframe\n",
    "2.\tConvert date column to pandas datetime and make it an index\n",
    "3.\tCalculate daily log-returns\n",
    "    *\tLog transform the prices\n",
    "    *\tCalculate daily percentage price change of log returns\n",
    "4.\tNormalize the returns\n",
    "\n",
    "Now the data is ready to compute PCA and absorption ratio.\n",
    "\n",
    "\n"
   ]
  },
  {
   "cell_type": "markdown",
   "metadata": {},
   "source": [
    "### Implementation\n",
    "\n",
    "\n",
    "The implementation process flow, step by step, in chronological order:\n",
    "\n",
    "* Import data into pandas dataframe.\n",
    "* Convert date column to pandas datetime and make it an index.\n",
    "* Calculate daily log-returns\n",
    "    * Log transform the prices\n",
    "    * Calculate daily percentage price change of log returns\n",
    "* Normalize the returns\n",
    "    * Executed by function `normalize_returns` that centers and divides by standard deviation raw asset returns data\n",
    "* Implement function `get_exponential_weighting` used to calculate exponentially smoothed weights. This function uses numpy methods to implement the exponential smoothing formula.\n",
    "* Implement function `get_pca_absortion_ratio` used to compute PCA and absorption ratio. This function loops backward through the data in increments, creates covariance matrices and passes them to sklearn PCA to produce principal components and absorption ratio using standard numpy and pandas methods.\n",
    "* Compute AR delta using simple moving averages and standard deviation of the one-year absorption ratio.\n",
    "* Implement the AR Delta trading strategy function `get_weights` using these rules: if AR Delta is above 1 then invest in fixed income index, if AR Delta is below -1 invest in equity index only, otherwise invest 50/50.\n",
    "* Compute the trading strategy portfolio weights and the average number of trades per year to optimize the portfolio.  These weights will be used to build the portfolio strategy and compare them against a 50/50 split.\n",
    "* Calculate the performance of the strategy using backtesting. Backtesting assesses the viability of a trading strategy by discovering how it would play out with historical data\n",
    "\t* Implement function `run_backtest_strategy` which given a DataFrame of strategy weights and a DataFrame of assets returns annualized return, volatility and Sharpe ratio of a strategy. This function uses simple numpy methods.\n",
    "* Calculate portfolio returns and return portfolio strategy performance\n",
    "    * I load the benchmark dataset comprised of two index stocks (`VTI` and `AGG`). These indices are designed to represent the whole equity market in the case of `VTI` and fixed income market in the case of `AGG`.\n",
    "    * Run ` run_backtest_strategy` once for the strategy weights calculated in the model and once more for 50/50 weights and compare their annualized return, volatility and Sharpe ratio. I select the weights that give the higher returns with the lowest volatility.\n",
    "\n"
   ]
  },
  {
   "cell_type": "markdown",
   "metadata": {},
   "source": [
    "### Refinement\n",
    "\n",
    "In the refinement section of the project, I experimented with lookback window step size parameter. The research paper, from which I based this project, uses one single day.\n",
    "\n",
    "Challenge: I order to test other values for step_size I had to modify the code that computes the moving averages and standard deviation in the AR Delta formula to use less than a year, as I don’t get enough return values. This occurs because in order to estimate the covariance matrix and eigenvectors there is need for two years of data plus another year to estimate the standard deviation of the one-year moving average. Therefore, the more I would increase the step size window the more data is required. \n",
    "\n",
    "Old code snippet:\n",
    "![old](refinement_old_code.png)\n",
    "New code snippet:\n",
    "![new](refinement_new_code.png)\n",
    "\n",
    "\n",
    "*Adjusting `step_size` parameter:*\n",
    "\n",
    "Step_size = 2\n",
    "\n",
    "Conclusion: When using two days as step_size the model recommends keeping computed model weights.\n",
    "As we notice in the charts, both the Absorption Ratio and Absorption Ratio Delta follow the market in similar manner wityh using one day step size.\n",
    "\n",
    "* Absorption Ratio strategy: 0.052863750098499945 0.0986259608194 0.536002383747\n",
    "* Equally weighted: 0.02431651866251021 0.102784078399 0.236578651492\n",
    "\n",
    "* Average number of trades per year 1.50\n",
    "\n",
    "![Step_size = 2](Absorption_Ratio_step_2.png)\n",
    "\n",
    "![Step_size = 2](AR_Delta_step_2.png)\n",
    "\n",
    "Step_size = 3\n",
    "\n",
    "Conclusion:  When using three days as step_size the model recommends keeping computed model weights.\n",
    "\n",
    "* Absorption Ratio strategy: 0.08289358781369592 0.11120718432 0.745397775514\n",
    "* Equally weighted: 0.018666151961176315 0.102621577463 0.181893052345\n",
    "\n",
    "* Average number of trades per year 0.89\n",
    "\n",
    "![Step_size = 3](Absorption_Ratio_step_3.png)\n",
    "\n",
    "![Step_size = 3](AR_Delta_step_3.png)\n",
    "\n",
    "\n",
    "Step_size = 5\n",
    "\n",
    "\n",
    "Conclusion: When using a week as step_size the model recommends keeping the 50/50 weights.\n",
    "\n",
    "* Absorption Ratio strategy: -0.03849888738388968 0.0709232959552 -0.542824284537\n",
    "* Equally weighted: 0.04012609626367268 0.11036081326 0.363590074033\n",
    "\n",
    "* Average number of trades per year 0.43\n",
    "\n",
    "\n",
    "![Step_size = 5](Absorption_Ratio_step_5.png)\n",
    "\n",
    "![Step_size = 5](AR_Delta_step_5.png)\n",
    "\n",
    "\n",
    "**Best solution:**\n",
    "\n",
    "Step_size = 1\n",
    "\n",
    "Conclusion: This is the best solution, although it requires a bit more maintenance with 2 trades per year. When using two days as `step_size` the model recommends keeping computed model weights.\n",
    "\n",
    "* Absorption Ratio strategy: 0.0908649651277521 0.0993016731046 0.915039619041\n",
    "* Equally weighted: 0.07471976752887036 0.102003147401 0.732524137078\n",
    "\n",
    "* Average number of trades per year 2.18\n",
    "\n",
    "![Step_size = 1](Absorption_Ratio_step_1.png)\n",
    "\n",
    "![Step_size = 1](AR_Delta_step_1.png)\n"
   ]
  },
  {
   "cell_type": "markdown",
   "metadata": {},
   "source": [
    "# IV. Results"
   ]
  },
  {
   "cell_type": "markdown",
   "metadata": {},
   "source": [
    "### Model Evaluation and Validation\n",
    "\n",
    "To recap, the final model and its implementation is based on PCA and a measure of market risk called absorption ratio derived from the total variance of a set of PCA eigenvectors.\n",
    "I have opted for PCA as a dimensionality reduction algorithm because it is straightforward, easy to implement, and powerful at the same time.\n",
    "\n",
    "In addition, principal components analysis is an unsupervised learning technique. In today's environment with exponential increase in data, unsupervised machine learning techniques are become more important.\n",
    "\n",
    "As stated in the Refinement section of the project some model enhancements require more and more input data. \n",
    "I have used different financial data than the research paper yet arrived at similar conclusions. A high absorption ratio implies that financial markets are relatively compact. A low absorption ratio suggests that markets are less tightly coupled and therefore less vulnerable to shocks.\n",
    "\n",
    "The research paper used financial datasets from the MSCI USA price index (index based on 51 U.S. industries), global financial stocks, and real estate prices. I have used S&P 500 index stocks and staple benchmark index (VTI, AGG) for model validation.\n"
   ]
  },
  {
   "cell_type": "markdown",
   "metadata": {},
   "source": [
    "### Justification\n",
    "\n",
    "Although most investors might be reluctant to shift entirely in or out of stocks given a single market signal, this project reinforces the research paper and does offer sound evidence of the potential value of the absorption ratio as a market timing signal.\n",
    "\n",
    "The end goal of portfolio optimization is to produce the best annualized returns for the risk/volatility selected. In other words, it is a measure of risk vs. return.\n",
    "\n",
    "The model results comparison with the benchmark is as simple as comparing the annualized returns, volatility and sharpe ratio between the absorption ratio strategy with the 50/50 split strategy.\n"
   ]
  },
  {
   "cell_type": "markdown",
   "metadata": {},
   "source": [
    "# V. Conclusion"
   ]
  },
  {
   "cell_type": "markdown",
   "metadata": {},
   "source": [
    "### Free-Form Visualization\n",
    "\n",
    "The most important aspect of the project is the power of absorption ratio to follow the market outlier events such as 2008 financial crisis. Significant increases in the absorption ratio are followed by significant stock market losses on average, while significant decreases in the absorption ration are followed by significant gains. This differential performance suggests that it could be profitable to reduce stock exposure after an increase in the absorption ratio and to raise exposure to stocks after the absorption ratio falls.\n",
    "\n",
    "This is nicely illustrated below:\n",
    "![Step_size = 1](Absorption_Ratio_step_1.png)\n"
   ]
  },
  {
   "cell_type": "markdown",
   "metadata": {},
   "source": [
    "### Reflection\n",
    "\n",
    "In this project I have explored a method of inferring systemic risk from asset prices by means of principal component analysis. Using stock prices as the only input feature I built covariance matrices of asset returns, fit them to PCA, use the results to compute the absorption ratio and built a simple trading strategy.\n",
    "\n",
    "The most interesting part of the project was to apply this concept of market risk measure named absorption ratio to Principal Component Analysis (PCA) a statistical method of dimension reduction used to reduce the complexity of a data set while minimizing information loss.\n",
    "\n",
    "\n",
    "The project and research paper offer indication that the absorption ratio effectively capture market fragility.\n",
    "1. Most significant U.S. stock market drawdowns were preceded by spikes in the absorption ratio.\n",
    "2. Stock prices, on average, depreciated significantly following spikes in the absorption ratio and, on average, appreciated significantly in the wake of sharp declines in the absorption ratio.\n",
    "3. The absorption ratio systematically rose in advance of market turbulence.\n"
   ]
  },
  {
   "cell_type": "markdown",
   "metadata": {},
   "source": [
    "### Improvement\n",
    "\n",
    "An aspect of this project implementation that I can see enhanced comes from the PCA is a linear machine learning algorithm.  I have embarked on the AI and machine learning journey as a hobby. \n",
    "\n",
    "\n",
    "In the future I plan on implementing a linear autoencoder instead of PCA by setting up a neural network using tensorflow fully connected layer with no activation function, a standard mean square error loss function, and a popular optimizer such as AdamOptimizer. After that, I may explore further with non-linearity by adding a sigmoid activation function and more layers. \n",
    "\n",
    "From a financial modeling perspective there is potential for discovering unseen patterns if we could model the data at lower intervals such as hourly, by second, or even by tick.  This requires humongous computational power. I have took a few lectures in quantum computing and PCA seems to be a machine learning technique transferable to quantum machine learning."
   ]
  },
  {
   "cell_type": "markdown",
   "metadata": {},
   "source": [
    "## 1 - Packages ##\n",
    "\n",
    "For project implementation, I’ll be using these Python libraries:\n",
    "\n",
    "- [numpy](www.numpy.org) is the fundamental package for scientific computing with Python.\n",
    "- [pandas](http://pandas.pydata.org/) Python data analysis library\n",
    "- [scikit-learn](http://scikit-learn.org/stable/) scikit-learn - machine learning in Python.\n",
    "- [matplotlib](http://matplotlib.org) is a famous library to plot graphs in Python."
   ]
  },
  {
   "cell_type": "code",
   "execution_count": 1,
   "metadata": {},
   "outputs": [
    {
     "name": "stdout",
     "output_type": "stream",
     "text": [
      "Package Versions:\n",
      "  scikit-learn: 0.19.1\n",
      "  pandas: 0.23.0\n"
     ]
    }
   ],
   "source": [
    "# import packages and check versio\n",
    "import pandas as pd\n",
    "import numpy as np\n",
    "import sklearn.decomposition\n",
    "\n",
    "import sys\n",
    "\n",
    "import matplotlib.pyplot as plt\n",
    "%matplotlib inline\n",
    "\n",
    "print(\"Package Versions:\")\n",
    "print(\"  scikit-learn: %s\" % sklearn.__version__)\n",
    "\n",
    "try:\n",
    "    import sklearn.model_selection\n",
    "    import sklearn.linear_model\n",
    "except:\n",
    "    print(\"Looks like an older version of sklearn package\")\n",
    "\n",
    "try:\n",
    "    import pandas as pd\n",
    "    print(\"  pandas: %s\"% pd.__version__)\n",
    "except:\n",
    "    print(\"Missing pandas package\")"
   ]
  },
  {
   "cell_type": "code",
   "execution_count": 2,
   "metadata": {},
   "outputs": [
    {
     "name": "stdout",
     "output_type": "stream",
     "text": [
      "Stock prices shape (3493, 419)\n",
      "Minimum Date 2000-01-27 00:00:00\n",
      "Maximum Date 2013-12-20 00:00:00\n"
     ]
    },
    {
     "data": {
      "text/html": [
       "<div>\n",
       "<style scoped>\n",
       "    .dataframe tbody tr th:only-of-type {\n",
       "        vertical-align: middle;\n",
       "    }\n",
       "\n",
       "    .dataframe tbody tr th {\n",
       "        vertical-align: top;\n",
       "    }\n",
       "\n",
       "    .dataframe thead th {\n",
       "        text-align: right;\n",
       "    }\n",
       "</style>\n",
       "<table border=\"1\" class=\"dataframe\">\n",
       "  <thead>\n",
       "    <tr style=\"text-align: right;\">\n",
       "      <th></th>\n",
       "      <th>A</th>\n",
       "      <th>AA</th>\n",
       "      <th>AAPL</th>\n",
       "      <th>ABC</th>\n",
       "      <th>ABT</th>\n",
       "    </tr>\n",
       "  </thead>\n",
       "  <tbody>\n",
       "    <tr>\n",
       "      <th>2000-01-27</th>\n",
       "      <td>46.1112</td>\n",
       "      <td>78.9443</td>\n",
       "      <td>3.9286</td>\n",
       "      <td>4.5485</td>\n",
       "      <td>13.7898</td>\n",
       "    </tr>\n",
       "    <tr>\n",
       "      <th>2000-01-28</th>\n",
       "      <td>45.8585</td>\n",
       "      <td>77.8245</td>\n",
       "      <td>3.6295</td>\n",
       "      <td>4.5485</td>\n",
       "      <td>14.2653</td>\n",
       "    </tr>\n",
       "    <tr>\n",
       "      <th>2000-01-31</th>\n",
       "      <td>44.5952</td>\n",
       "      <td>78.0345</td>\n",
       "      <td>3.7054</td>\n",
       "      <td>4.3968</td>\n",
       "      <td>14.5730</td>\n",
       "    </tr>\n",
       "    <tr>\n",
       "      <th>2000-02-01</th>\n",
       "      <td>47.8377</td>\n",
       "      <td>80.7640</td>\n",
       "      <td>3.5804</td>\n",
       "      <td>4.5333</td>\n",
       "      <td>14.7128</td>\n",
       "    </tr>\n",
       "    <tr>\n",
       "      <th>2000-02-02</th>\n",
       "      <td>51.5434</td>\n",
       "      <td>83.4934</td>\n",
       "      <td>3.5290</td>\n",
       "      <td>4.5788</td>\n",
       "      <td>14.7968</td>\n",
       "    </tr>\n",
       "  </tbody>\n",
       "</table>\n",
       "</div>"
      ],
      "text/plain": [
       "                  A       AA    AAPL     ABC      ABT\n",
       "2000-01-27  46.1112  78.9443  3.9286  4.5485  13.7898\n",
       "2000-01-28  45.8585  77.8245  3.6295  4.5485  14.2653\n",
       "2000-01-31  44.5952  78.0345  3.7054  4.3968  14.5730\n",
       "2000-02-01  47.8377  80.7640  3.5804  4.5333  14.7128\n",
       "2000-02-02  51.5434  83.4934  3.5290  4.5788  14.7968"
      ]
     },
     "execution_count": 2,
     "metadata": {},
     "output_type": "execute_result"
    }
   ],
   "source": [
    "import os\n",
    "# load dataset\n",
    "# Convert date to datetime type\n",
    "# Drop missing values\n",
    "pd_holdings = pd.read_csv(os.getcwd() + '/Data/pca_spx_holdings.csv',date_parser=lambda dt: pd.to_datetime(dt, format='%Y-%m-%d'),\n",
    "                     index_col = 0).dropna()\n",
    "\n",
    "\n",
    "\n",
    "print('Stock prices shape', pd_holdings.shape)\n",
    "print('Minimum Date',pd_holdings.index.min())\n",
    "print('Maximum Date',pd_holdings.index.max())\n",
    "pd_holdings.iloc[:, :5].head()"
   ]
  },
  {
   "cell_type": "code",
   "execution_count": 3,
   "metadata": {},
   "outputs": [
    {
     "data": {
      "text/html": [
       "<div>\n",
       "<style scoped>\n",
       "    .dataframe tbody tr th:only-of-type {\n",
       "        vertical-align: middle;\n",
       "    }\n",
       "\n",
       "    .dataframe tbody tr th {\n",
       "        vertical-align: top;\n",
       "    }\n",
       "\n",
       "    .dataframe thead th {\n",
       "        text-align: right;\n",
       "    }\n",
       "</style>\n",
       "<table border=\"1\" class=\"dataframe\">\n",
       "  <thead>\n",
       "    <tr style=\"text-align: right;\">\n",
       "      <th></th>\n",
       "      <th>A</th>\n",
       "      <th>AA</th>\n",
       "      <th>AAPL</th>\n",
       "      <th>ABC</th>\n",
       "      <th>ABT</th>\n",
       "    </tr>\n",
       "  </thead>\n",
       "  <tbody>\n",
       "    <tr>\n",
       "      <th>2000-01-28</th>\n",
       "      <td>-0.005480</td>\n",
       "      <td>-0.014185</td>\n",
       "      <td>-0.076134</td>\n",
       "      <td>0.000000</td>\n",
       "      <td>0.034482</td>\n",
       "    </tr>\n",
       "    <tr>\n",
       "      <th>2000-01-31</th>\n",
       "      <td>-0.027548</td>\n",
       "      <td>0.002698</td>\n",
       "      <td>0.020912</td>\n",
       "      <td>-0.033352</td>\n",
       "      <td>0.021570</td>\n",
       "    </tr>\n",
       "    <tr>\n",
       "      <th>2000-02-01</th>\n",
       "      <td>0.072710</td>\n",
       "      <td>0.034978</td>\n",
       "      <td>-0.033735</td>\n",
       "      <td>0.031045</td>\n",
       "      <td>0.009593</td>\n",
       "    </tr>\n",
       "    <tr>\n",
       "      <th>2000-02-02</th>\n",
       "      <td>0.077464</td>\n",
       "      <td>0.033795</td>\n",
       "      <td>-0.014356</td>\n",
       "      <td>0.010037</td>\n",
       "      <td>0.005709</td>\n",
       "    </tr>\n",
       "    <tr>\n",
       "      <th>2000-02-03</th>\n",
       "      <td>0.016340</td>\n",
       "      <td>-0.031014</td>\n",
       "      <td>0.045537</td>\n",
       "      <td>-0.006617</td>\n",
       "      <td>0.005670</td>\n",
       "    </tr>\n",
       "  </tbody>\n",
       "</table>\n",
       "</div>"
      ],
      "text/plain": [
       "                   A        AA      AAPL       ABC       ABT\n",
       "2000-01-28 -0.005480 -0.014185 -0.076134  0.000000  0.034482\n",
       "2000-01-31 -0.027548  0.002698  0.020912 -0.033352  0.021570\n",
       "2000-02-01  0.072710  0.034978 -0.033735  0.031045  0.009593\n",
       "2000-02-02  0.077464  0.033795 -0.014356  0.010037  0.005709\n",
       "2000-02-03  0.016340 -0.031014  0.045537 -0.006617  0.005670"
      ]
     },
     "execution_count": 3,
     "metadata": {},
     "output_type": "execute_result"
    }
   ],
   "source": [
    "holdings_returns = np.log(pd_holdings) - np.log(pd_holdings.shift(1))\n",
    "holdings_returns = pd_holdings.pct_change(periods=1)\n",
    "holdings_returns = holdings_returns.iloc[1:, :]\n",
    "holdings_returns.iloc[:, :5].head()"
   ]
  },
  {
   "cell_type": "code",
   "execution_count": 4,
   "metadata": {},
   "outputs": [],
   "source": [
    "def normalize_returns(returns_df):\n",
    "    \"\"\"\n",
    "    Normalize, i.e. center and divide by standard deviation raw asset returns data\n",
    "\n",
    "    Arguments:\n",
    "    returns_df -- a pandas.DataFrame of asset returns\n",
    "\n",
    "    Return:\n",
    "    norm_returns_df -- normalized returns\n",
    "    \"\"\"\n",
    "    returns_mean= returns_df.mean(axis=0)\n",
    "    std_returns_df = returns_df.std(axis=0)\n",
    "    norm_returns_df = (returns_df - returns_mean) / std_returns_df\n",
    "    return norm_returns_df"
   ]
  },
  {
   "cell_type": "code",
   "execution_count": 5,
   "metadata": {},
   "outputs": [
    {
     "data": {
      "text/html": [
       "<div>\n",
       "<style scoped>\n",
       "    .dataframe tbody tr th:only-of-type {\n",
       "        vertical-align: middle;\n",
       "    }\n",
       "\n",
       "    .dataframe tbody tr th {\n",
       "        vertical-align: top;\n",
       "    }\n",
       "\n",
       "    .dataframe thead th {\n",
       "        text-align: right;\n",
       "    }\n",
       "</style>\n",
       "<table border=\"1\" class=\"dataframe\">\n",
       "  <thead>\n",
       "    <tr style=\"text-align: right;\">\n",
       "      <th></th>\n",
       "      <th>A</th>\n",
       "      <th>AA</th>\n",
       "      <th>AAPL</th>\n",
       "      <th>ABC</th>\n",
       "      <th>ABT</th>\n",
       "    </tr>\n",
       "  </thead>\n",
       "  <tbody>\n",
       "    <tr>\n",
       "      <th>2000-01-28</th>\n",
       "      <td>-0.190054</td>\n",
       "      <td>-0.513710</td>\n",
       "      <td>-2.714709</td>\n",
       "      <td>-0.049779</td>\n",
       "      <td>2.182933</td>\n",
       "    </tr>\n",
       "    <tr>\n",
       "      <th>2000-01-31</th>\n",
       "      <td>-0.898232</td>\n",
       "      <td>0.096888</td>\n",
       "      <td>0.688156</td>\n",
       "      <td>-1.757230</td>\n",
       "      <td>1.355644</td>\n",
       "    </tr>\n",
       "    <tr>\n",
       "      <th>2000-02-01</th>\n",
       "      <td>2.319164</td>\n",
       "      <td>1.264327</td>\n",
       "      <td>-1.227995</td>\n",
       "      <td>1.539597</td>\n",
       "      <td>0.588289</td>\n",
       "    </tr>\n",
       "    <tr>\n",
       "      <th>2000-02-02</th>\n",
       "      <td>2.471738</td>\n",
       "      <td>1.221529</td>\n",
       "      <td>-0.548494</td>\n",
       "      <td>0.464060</td>\n",
       "      <td>0.339454</td>\n",
       "    </tr>\n",
       "    <tr>\n",
       "      <th>2000-02-03</th>\n",
       "      <td>0.510174</td>\n",
       "      <td>-1.122380</td>\n",
       "      <td>1.551619</td>\n",
       "      <td>-0.388563</td>\n",
       "      <td>0.336944</td>\n",
       "    </tr>\n",
       "  </tbody>\n",
       "</table>\n",
       "</div>"
      ],
      "text/plain": [
       "                   A        AA      AAPL       ABC       ABT\n",
       "2000-01-28 -0.190054 -0.513710 -2.714709 -0.049779  2.182933\n",
       "2000-01-31 -0.898232  0.096888  0.688156 -1.757230  1.355644\n",
       "2000-02-01  2.319164  1.264327 -1.227995  1.539597  0.588289\n",
       "2000-02-02  2.471738  1.221529 -0.548494  0.464060  0.339454\n",
       "2000-02-03  0.510174 -1.122380  1.551619 -0.388563  0.336944"
      ]
     },
     "execution_count": 5,
     "metadata": {},
     "output_type": "execute_result"
    }
   ],
   "source": [
    "normed_returns = normalize_returns(holdings_returns)\n",
    "normed_returns.iloc[:, :5].head()"
   ]
  },
  {
   "cell_type": "code",
   "execution_count": 6,
   "metadata": {},
   "outputs": [
    {
     "data": {
      "text/plain": [
       "[<matplotlib.lines.Line2D at 0xc2936a0>]"
      ]
     },
     "execution_count": 6,
     "metadata": {},
     "output_type": "execute_result"
    },
    {
     "data": {
      "image/png": "[encoded data removed]",
      "text/plain": [
       "<Figure size 432x288 with 1 Axes>"
      ]
     },
     "metadata": {},
     "output_type": "display_data"
    }
   ],
   "source": [
    "plt.title('Normalized Asset Returns')\n",
    "plt.plot(normed_returns['SPX'],linewidth=1)"
   ]
  },
  {
   "cell_type": "code",
   "execution_count": 7,
   "metadata": {},
   "outputs": [
    {
     "name": "stdout",
     "output_type": "stream",
     "text": [
      "Half-life = 252\n",
      "Lookback window = 504\n",
      "Step size = 1\n",
      "Variance Threshold = 0.80\n",
      "Number of stocks = 418\n",
      "Number of principal components = 83\n"
     ]
    }
   ],
   "source": [
    "#hyper-parameters setup, according to the research paper (Kritzman)\n",
    "\n",
    "n_stocks = holdings_returns.columns.values[:-1] # exclude SPX Index\n",
    "\n",
    "half_life = 252             # in (days)\n",
    "moving_window = 252 * 2   # in (days)\n",
    "n_holdings = len(n_stocks)\n",
    "step_size = 1          # 1 - days : 5 - weekly, 21 - monthly, 63 - quarterly\n",
    "\n",
    "\n",
    "# required variance to be explained. How many components are needed?\n",
    "variance_threshold = 0.8     \n",
    "# fix 20% of principal components for absorption ratio calculation. How much variance do they explain?\n",
    "absorb_components = int((1 / 5) * n_holdings)  \n",
    "\n",
    "\n",
    "\n",
    "print('Half-life = %d' % half_life)\n",
    "print('Lookback window = %d' % moving_window)\n",
    "print('Step size = %d' % step_size)\n",
    "print('Variance Threshold = %.2f' % variance_threshold)\n",
    "print('Number of stocks = %d' % n_holdings)\n",
    "print('Number of principal components = %d' % absorb_components)"
   ]
  },
  {
   "cell_type": "code",
   "execution_count": 8,
   "metadata": {},
   "outputs": [],
   "source": [
    "\n",
    "def get_exponential_weighting(n_periods, half_life = 252):\n",
    "    \"\"\"\n",
    "    Calculate exponentially smoothed weights\n",
    "\n",
    "    Arguments:\n",
    "    n_periods -- number of periods, an integer, N in the formula above\n",
    "    half_life -- half-life, which determines the speed of decay, h in the formula\n",
    "    \n",
    "    Return:\n",
    "    exponential_weights -- exponentially smoothed weights, np.array\n",
    "    \"\"\"\n",
    "    \n",
    "    exponential_weights = np.zeros(n_periods) # initialize empty np.array\n",
    "\n",
    "    X_j = np.exp( (-np.log(2) / half_life) * np.arange(n_periods))\n",
    "    exponential_weights = X_j / np.sum(X_j)\n",
    "    \n",
    "    return exponential_weights"
   ]
  },
  {
   "cell_type": "code",
   "execution_count": 9,
   "metadata": {},
   "outputs": [
    {
     "data": {
      "text/plain": [
       "[<matplotlib.lines.Line2D at 0xb661f28>]"
      ]
     },
     "execution_count": 9,
     "metadata": {},
     "output_type": "execute_result"
    },
    {
     "data": {
      "image/png": "[encoded data removed]",
      "text/plain": [
       "<Figure size 432x288 with 1 Axes>"
      ]
     },
     "metadata": {},
     "output_type": "display_data"
    }
   ],
   "source": [
    "exponential_weights = get_exponential_weighting(252*1)\n",
    "plt.title('Exponential Smoothing weights')\n",
    "plt.plot(exponential_weights,linewidth=1)"
   ]
  },
  {
   "cell_type": "code",
   "execution_count": 10,
   "metadata": {},
   "outputs": [],
   "source": [
    "\n",
    "# - on each loop iteration: \n",
    "#    - fit PCA to **cov_matrix**\n",
    "#    - use fitted pca model to pass values to get_absorption_ratio(). \n",
    "#    The result of absorption ratio calculation goes into **absorp_ratio**\n",
    "#    - compute number of principal components it takes to explain at least **variance_threshold** of variance. \n",
    "#    The result of this calculation goes into **pca_components** \n",
    "\n",
    "def get_pca_absortion_ratio(returns, window, step_size, \n",
    "                            decay_factor, absorb_components, variance_threshold, print_debug_code=False):\n",
    "    \"\"\"\n",
    "    Compute PCA via sklearn. \n",
    "    \n",
    "    Arguments:\n",
    "    variance_explained -- 1D np.array of explained variance by each pricincipal component, in descending order\n",
    "    \n",
    "    absorb_components -- an integer, a number of principal components to compute absorption ratio\n",
    "    \n",
    "    use_ewm -- exponential_weighed_returns\n",
    "    returns -- asset returns\n",
    "    decay_factor -- half life decay factor\n",
    "    window -- lookback window\n",
    "    step_size -- window step size\n",
    "    \n",
    "    \n",
    "    Return:\n",
    "    pca_components -- pca components\n",
    "    absorp_ratio -- absorption ratio\n",
    "    pca_index -- pca_index \n",
    "    \"\"\"\n",
    "    from sklearn.decomposition import PCA\n",
    "       \n",
    "    pca_index = returns.index[list(range(window, len(returns), step_size))]\n",
    "    # allocate arrays for storing pca components\n",
    "    pca_components = np.array([np.nan]*len(pca_index))\n",
    "    absorp_ratio = np.array([np.nan]*len(pca_index))\n",
    "    use_ewm=False\n",
    "\n",
    "       \n",
    "    j = 0\n",
    "    \n",
    "    for i in range(window, len(returns), step_size):\n",
    "        ret_frame = returns.iloc[i - window:i, :-1]  # fixed window\n",
    "        if use_ewm:\n",
    "            # compute exponential smoothing weights\n",
    "            exponential_weights = get_exponential_weighting(window, decay_factor)\n",
    "            ret_frame = (ret_frame.T * exponential_weights).T\n",
    "\n",
    "        cov_matrix = ret_frame.cov()\n",
    "        \n",
    "        #START code testing and validation       \n",
    "        if print_debug_code:         \n",
    "\n",
    "            print ('i',i)\n",
    "            print ('j',j)\n",
    "            print\n",
    "            #END code testing and validation\n",
    "        \n",
    "        if j == 0 or j % 21 == 0:\n",
    "            ### fit PCA and store result into pca_components\n",
    "            pca = PCA().fit(cov_matrix)\n",
    "            # compute absorption ratio\n",
    "            absorp_ratio[j] = np.sum(pca.explained_variance_[:absorb_components]) / np.sum(pca.explained_variance_)\n",
    "            # compute cumulative variance explained\n",
    "            variance_explained = np.cumsum(pca.explained_variance_ratio_)\n",
    "            # filter components at explained_variance 80%\n",
    "            pca_components[j] = np.where(np.logical_not(variance_explained < variance_threshold))[0][0] + 1\n",
    "        else:\n",
    "            absorp_ratio[j] = absorp_ratio[j-1] \n",
    "            pca_components[j] = pca_components[j-1]\n",
    "       \n",
    "        #START code testing and validation\n",
    "        if print_debug_code:           \n",
    "            print ('absorp_ratio', absorp_ratio)\n",
    "            print ('absorp_ratio[j]', absorp_ratio[j])\n",
    "            print\n",
    "            print ('pca_components', pca_components)\n",
    "            print ('pca_components[j]', pca_components[j])\n",
    "            print\n",
    "            #END code testing and validation\n",
    "        \n",
    "        j += 1\n",
    "        \n",
    "    return pca_components, absorp_ratio, pca_index\n",
    "\n",
    "    "
   ]
  },
  {
   "cell_type": "code",
   "execution_count": 11,
   "metadata": {},
   "outputs": [],
   "source": [
    "\n",
    "#built PCA\n",
    "pca_components, absorp_ratio, pca_index  = get_pca_absortion_ratio(normed_returns, moving_window, step_size, \n",
    "                            half_life, absorb_components,variance_threshold)\n",
    "\n",
    " \n",
    "ts_pca_components = pd.Series(pca_components, index=pca_index)\n",
    "ts_absorb_ratio = pd.Series(absorp_ratio, index=pca_index)  "
   ]
  },
  {
   "cell_type": "code",
   "execution_count": 12,
   "metadata": {},
   "outputs": [
    {
     "data": {
      "image/png": "[encoded data removed]",
      "text/plain": [
       "<Figure size 864x432 with 1 Axes>"
      ]
     },
     "metadata": {},
     "output_type": "display_data"
    }
   ],
   "source": [
    "\n",
    "ts_absorb_ratio.plot(figsize=(12,6), title='Absorption Ratio via PCA', linewidth=3)\n",
    "plt.savefig(\"Absorption_Ratio_step_1.png\", dpi=900)"
   ]
  },
  {
   "cell_type": "code",
   "execution_count": 13,
   "metadata": {},
   "outputs": [
    {
     "data": {
      "image/png": "[encoded data removed]",
      "text/plain": [
       "<Figure size 864x432 with 1 Axes>"
      ]
     },
     "metadata": {},
     "output_type": "display_data"
    }
   ],
   "source": [
    " \n",
    "# following Kritzman and computing AR_delta = (15d_AR -1yr_AR) / AR_sigma\n",
    "ts_ar = ts_absorb_ratio\n",
    "# consider ts_ar size when computing rolling averages\n",
    "max_i = ts_ar.count()\n",
    "\n",
    "if max_i > 252:\n",
    "    counter = 252\n",
    "else:\n",
    "    counter  = max_i\n",
    "\n",
    "ar_mean_1yr = ts_ar.rolling(counter).mean() # compute moving average of the absorption ratio over 1 year\n",
    "ar_mean_15d = ts_ar.rolling(15).mean()  # compute moving average of the absorption ratio over 15 days\n",
    "ar_std_1yr = ts_ar.rolling(counter).std()   # standard deviation of the one-year absorption ratio\n",
    "ar_delta = (ar_mean_15d - ar_mean_1yr) / ar_std_1yr    # standardized shift in absorption ratio\n",
    "    \n",
    "df_plot = pd.DataFrame({'AR_delta': ar_delta.values, 'AR_1yr': ar_mean_1yr.values, 'AR_15d': ar_mean_15d.values}, \n",
    "                       index=ts_ar.index)\n",
    "df_plot = df_plot.dropna()\n",
    "if df_plot.shape[0] > 0:\n",
    "    df_plot.plot(figsize=(12, 6), title='Absorption Ratio Delta', linewidth=3)\n",
    "    plt.savefig('AR_Delta_step_1.png', dpi=900)    "
   ]
  },
  {
   "cell_type": "code",
   "execution_count": 14,
   "metadata": {},
   "outputs": [],
   "source": [
    "\n",
    "def get_weights(ar_delta):\n",
    "    '''\n",
    "    Calculate EQ / FI portfolio weights based on Absorption Ratio delta\n",
    "    Arguments:\n",
    "    ar_delta -- Absorption Ratio delta\n",
    "    \n",
    "    Return: \n",
    "        wgts -- a vector of portfolio weights\n",
    "    '''\n",
    "    if ar_delta > 1:\n",
    "        return [0., 1.]\n",
    "    elif ar_delta < -1:\n",
    "        return [1., 0.]\n",
    "    return [0.5, 0.5]"
   ]
  },
  {
   "cell_type": "code",
   "execution_count": 15,
   "metadata": {},
   "outputs": [
    {
     "name": "stdout",
     "output_type": "stream",
     "text": [
      "Average number of trades per year 2.18\n"
     ]
    }
   ],
   "source": [
    "# build the portflio weights and average number of trades required per year\n",
    "ar_delta_data = ar_delta.dropna()\n",
    "\n",
    "rebal_dates = np.zeros(len(ar_delta_data))\n",
    "wgts = pd.DataFrame(data=np.zeros((len(ar_delta_data.index), 2)), index=ar_delta_data.index, columns=('EQ', 'FI'))\n",
    "\n",
    "#call get_weights and build portfolio weights\n",
    "portfolio_weights = get_weights(ar_delta_data.values[0])\n",
    "\n",
    "wgts.iloc[0, :] = portfolio_weights\n",
    "\n",
    "for i in range(1, len(ar_delta_data)):\n",
    "    portfolio_weights = get_weights(ar_delta_data.values[i])\n",
    "    wgts.iloc[i, :] = portfolio_weights\n",
    "    if wgts.iloc[i-1, :][0] != portfolio_weights[0]:\n",
    "        portfolio_weights = wgts.iloc[i, :]\n",
    "        rebal_dates[i] = 1\n",
    "\n",
    "ts_rebal_dates = pd.Series(rebal_dates, index=ar_delta_data.index)\n",
    "ts_trades_per_year = ts_rebal_dates.groupby([ts_rebal_dates.index.year]).sum()\n",
    "print('Average number of trades per year %.2f' % ts_trades_per_year.mean())"
   ]
  },
  {
   "cell_type": "code",
   "execution_count": 16,
   "metadata": {},
   "outputs": [
    {
     "name": "stdout",
     "output_type": "stream",
     "text": [
      "Stock prices shape (3508, 2)\n",
      "Minimum Date 2003-09-29 00:00:00\n",
      "Maximum Date 2017-08-31 00:00:00\n"
     ]
    },
    {
     "data": {
      "text/html": [
       "<div>\n",
       "<style scoped>\n",
       "    .dataframe tbody tr th:only-of-type {\n",
       "        vertical-align: middle;\n",
       "    }\n",
       "\n",
       "    .dataframe tbody tr th {\n",
       "        vertical-align: top;\n",
       "    }\n",
       "\n",
       "    .dataframe thead th {\n",
       "        text-align: right;\n",
       "    }\n",
       "</style>\n",
       "<table border=\"1\" class=\"dataframe\">\n",
       "  <thead>\n",
       "    <tr style=\"text-align: right;\">\n",
       "      <th></th>\n",
       "      <th>VTI</th>\n",
       "      <th>AGG</th>\n",
       "    </tr>\n",
       "    <tr>\n",
       "      <th>Index</th>\n",
       "      <th></th>\n",
       "      <th></th>\n",
       "    </tr>\n",
       "  </thead>\n",
       "  <tbody>\n",
       "    <tr>\n",
       "      <th>2003-09-29</th>\n",
       "      <td>0.005862</td>\n",
       "      <td>-0.002734</td>\n",
       "    </tr>\n",
       "    <tr>\n",
       "      <th>2003-09-30</th>\n",
       "      <td>-0.006036</td>\n",
       "      <td>0.005188</td>\n",
       "    </tr>\n",
       "    <tr>\n",
       "      <th>2003-10-01</th>\n",
       "      <td>0.020000</td>\n",
       "      <td>-0.000486</td>\n",
       "    </tr>\n",
       "    <tr>\n",
       "      <th>2003-10-02</th>\n",
       "      <td>0.004516</td>\n",
       "      <td>-0.001560</td>\n",
       "    </tr>\n",
       "    <tr>\n",
       "      <th>2003-10-03</th>\n",
       "      <td>0.010935</td>\n",
       "      <td>-0.007219</td>\n",
       "    </tr>\n",
       "  </tbody>\n",
       "</table>\n",
       "</div>"
      ],
      "text/plain": [
       "                 VTI       AGG\n",
       "Index                         \n",
       "2003-09-29  0.005862 -0.002734\n",
       "2003-09-30 -0.006036  0.005188\n",
       "2003-10-01  0.020000 -0.000486\n",
       "2003-10-02  0.004516 -0.001560\n",
       "2003-10-03  0.010935 -0.007219"
      ]
     },
     "execution_count": 16,
     "metadata": {},
     "output_type": "execute_result"
    }
   ],
   "source": [
    "#load benchmark dataset\n",
    "index_returns= pd.read_csv(os.getcwd() + '/Data/pca_benchmark_returns.csv',\n",
    "                     date_parser=lambda dt: pd.to_datetime(dt, format='%Y-%m-%d'),\n",
    "                     index_col = 0)\n",
    "\n",
    "\n",
    "print('Stock prices shape', index_returns.shape)\n",
    "print('Minimum Date',index_returns.index.min())\n",
    "print('Maximum Date',index_returns.index.max())\n",
    "index_returns.iloc[:, :5].head()"
   ]
  },
  {
   "cell_type": "code",
   "execution_count": 17,
   "metadata": {},
   "outputs": [],
   "source": [
    "def run_backtest_strategy(strategy_weights, returns, periods_per_year = 252):\n",
    "    '''\n",
    "    Calculate portfolio returns and return portfolio strategy performance\n",
    "    Arguments:\n",
    "    \n",
    "    strategy_weights -- pandas.DataFrame of weights of the holdings\n",
    "    returns -- pandas.DataFrame of returns\n",
    "    periods_per_year -- number of return observations per year\n",
    "    \n",
    "    Return: \n",
    "        (ann_ret, ann_vol, sharpe, df_) -- a tuple of (annualized return, annualized volatility, sharpe ratio, portfolio dataset)\n",
    "    '''\n",
    "    \n",
    "    #from scipy.stats import gmean\n",
    "\n",
    "    df_ = strategy_weights.join(returns)\n",
    "    df_['EQ_returns'] = df_['EQ'] * df_['VTI']\n",
    "    df_['FI_returns'] = df_['FI'] * df_['AGG']\n",
    "\n",
    "    ts_returns = df_['EQ_returns'] + df_['FI_returns']\n",
    "    #print (ts_returns.dropna().shape)\n",
    "    annualized_return = ts_returns.mean() * periods_per_year\n",
    "    annualized_vol = ts_returns.std() * np.sqrt(periods_per_year)\n",
    "    sharpe_ratio = annualized_return / annualized_vol\n",
    "    return annualized_return, annualized_vol, sharpe_ratio, df_.dropna()"
   ]
  },
  {
   "cell_type": "code",
   "execution_count": 18,
   "metadata": {},
   "outputs": [
    {
     "name": "stdout",
     "output_type": "stream",
     "text": [
      "Absorption Ratio strategy: 0.0908649651277521 0.09930167310456979 0.9150396190411274\n",
      "Equally weighted: 0.07471976752887036 0.10200314740060758 0.7325241370780025\n"
     ]
    }
   ],
   "source": [
    "# Calculate portfolio returns and return portfolio strategy performance\n",
    "ann_ret, ann_vol, sharpe, portflio_ret = run_backtest_strategy(wgts, index_returns)\n",
    "print('Absorption Ratio strategy:', ann_ret, ann_vol, sharpe)\n",
    "\n",
    "eq_wgts = wgts.copy()\n",
    "eq_wgts.iloc[:, ] = 0.5\n",
    "\n",
    "ann_ret_eq_wgt, ann_vol_eq_wgt, sharpe_eq_wgt,portflio_eq_wg = run_backtest_strategy(eq_wgts, index_returns)\n",
    "\n",
    "print('Equally weighted:', ann_ret_eq_wgt, ann_vol_eq_wgt, sharpe_eq_wgt)\n",
    "#print ('Strategy Portflio',portflio_ret.head())"
   ]
  },
  {
   "cell_type": "code",
   "execution_count": 19,
   "metadata": {},
   "outputs": [
    {
     "data": {
      "text/html": [
       "<div>\n",
       "<style scoped>\n",
       "    .dataframe tbody tr th:only-of-type {\n",
       "        vertical-align: middle;\n",
       "    }\n",
       "\n",
       "    .dataframe tbody tr th {\n",
       "        vertical-align: top;\n",
       "    }\n",
       "\n",
       "    .dataframe thead th {\n",
       "        text-align: right;\n",
       "    }\n",
       "</style>\n",
       "<table border=\"1\" class=\"dataframe\">\n",
       "  <thead>\n",
       "    <tr style=\"text-align: right;\">\n",
       "      <th></th>\n",
       "      <th>EQ</th>\n",
       "      <th>FI</th>\n",
       "      <th>VTI</th>\n",
       "      <th>AGG</th>\n",
       "      <th>EQ_returns</th>\n",
       "      <th>FI_returns</th>\n",
       "    </tr>\n",
       "  </thead>\n",
       "  <tbody>\n",
       "    <tr>\n",
       "      <th>2003-09-29</th>\n",
       "      <td>0.5</td>\n",
       "      <td>0.5</td>\n",
       "      <td>0.005862</td>\n",
       "      <td>-0.002734</td>\n",
       "      <td>0.002931</td>\n",
       "      <td>-0.001367</td>\n",
       "    </tr>\n",
       "    <tr>\n",
       "      <th>2003-09-30</th>\n",
       "      <td>0.5</td>\n",
       "      <td>0.5</td>\n",
       "      <td>-0.006036</td>\n",
       "      <td>0.005188</td>\n",
       "      <td>-0.003018</td>\n",
       "      <td>0.002594</td>\n",
       "    </tr>\n",
       "    <tr>\n",
       "      <th>2003-10-01</th>\n",
       "      <td>0.5</td>\n",
       "      <td>0.5</td>\n",
       "      <td>0.020000</td>\n",
       "      <td>-0.000486</td>\n",
       "      <td>0.010000</td>\n",
       "      <td>-0.000243</td>\n",
       "    </tr>\n",
       "    <tr>\n",
       "      <th>2003-10-02</th>\n",
       "      <td>0.5</td>\n",
       "      <td>0.5</td>\n",
       "      <td>0.004516</td>\n",
       "      <td>-0.001560</td>\n",
       "      <td>0.002258</td>\n",
       "      <td>-0.000780</td>\n",
       "    </tr>\n",
       "    <tr>\n",
       "      <th>2003-10-03</th>\n",
       "      <td>0.5</td>\n",
       "      <td>0.5</td>\n",
       "      <td>0.010935</td>\n",
       "      <td>-0.007219</td>\n",
       "      <td>0.005468</td>\n",
       "      <td>-0.003610</td>\n",
       "    </tr>\n",
       "  </tbody>\n",
       "</table>\n",
       "</div>"
      ],
      "text/plain": [
       "             EQ   FI       VTI       AGG  EQ_returns  FI_returns\n",
       "2003-09-29  0.5  0.5  0.005862 -0.002734    0.002931   -0.001367\n",
       "2003-09-30  0.5  0.5 -0.006036  0.005188   -0.003018    0.002594\n",
       "2003-10-01  0.5  0.5  0.020000 -0.000486    0.010000   -0.000243\n",
       "2003-10-02  0.5  0.5  0.004516 -0.001560    0.002258   -0.000780\n",
       "2003-10-03  0.5  0.5  0.010935 -0.007219    0.005468   -0.003610"
      ]
     },
     "execution_count": 19,
     "metadata": {},
     "output_type": "execute_result"
    }
   ],
   "source": [
    "portflio_ret.head()"
   ]
  },
  {
   "cell_type": "code",
   "execution_count": 20,
   "metadata": {},
   "outputs": [
    {
     "data": {
      "image/png": "[encoded data removed]",
      "text/plain": [
       "<Figure size 432x216 with 1 Axes>"
      ]
     },
     "metadata": {},
     "output_type": "display_data"
    }
   ],
   "source": [
    "#create exploratory data charts\n",
    "pd_chart = pd.Series(pd_holdings['SPX'], index=pca_index)  \n",
    "pd_chart.plot(figsize=(6,3), title='S&P 500 Index by Year', linewidth=1)\n",
    "plt.savefig('SPX.png', dpi=900)"
   ]
  },
  {
   "cell_type": "code",
   "execution_count": 21,
   "metadata": {},
   "outputs": [
    {
     "data": {
      "image/png": "[encoded data removed]",
      "text/plain": [
       "<Figure size 432x216 with 1 Axes>"
      ]
     },
     "metadata": {},
     "output_type": "display_data"
    }
   ],
   "source": [
    "#create exploratory data charts\n",
    "pd_chart = pd.Series(index_returns['VTI'], index=pca_index)  \n",
    "pd_chart.plot(figsize=(6,3), title='VTI Index by Year', linewidth=1)\n",
    "plt.savefig('VTI.png', dpi=900)"
   ]
  },
  {
   "cell_type": "code",
   "execution_count": 22,
   "metadata": {},
   "outputs": [
    {
     "data": {
      "image/png": "[encoded data removed]",
      "text/plain": [
       "<Figure size 432x216 with 1 Axes>"
      ]
     },
     "metadata": {},
     "output_type": "display_data"
    }
   ],
   "source": [
    "#create exploratory data charts\n",
    "pd_chart = pd.Series(index_returns['AGG'], index=pca_index)  \n",
    "pd_chart.plot(figsize=(6,3), title='AGG Index by Year', linewidth=1)\n",
    "plt.savefig('AGG.png', dpi=900)"
   ]
  }
 ],
 "metadata": {
  "anaconda-cloud": {},
  "celltoolbar": "Edit Metadata",
  "coursera": {
   "course_slug": "machine-learning-in-finance"
  },
  "kernelspec": {
   "display_name": "Python 3",
   "language": "python",
   "name": "python3"
  },
  "language_info": {
   "codemirror_mode": {
    "name": "ipython",
    "version": 3
   },
   "file_extension": ".py",
   "mimetype": "text/x-python",
   "name": "python",
   "nbconvert_exporter": "python",
   "pygments_lexer": "ipython3",
   "version": "3.6.5"
  }
 },
 "nbformat": 4,
 "nbformat_minor": 1
}
